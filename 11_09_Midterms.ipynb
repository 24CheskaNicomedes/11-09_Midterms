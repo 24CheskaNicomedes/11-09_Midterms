{
  "nbformat": 4,
  "nbformat_minor": 0,
  "metadata": {
    "colab": {
      "provenance": [],
      "collapsed_sections": [],
      "authorship_tag": "ABX9TyNba24cHMeiQxYg9ENfYxRu",
      "include_colab_link": true
    },
    "kernelspec": {
      "name": "python3",
      "display_name": "Python 3"
    },
    "language_info": {
      "name": "python"
    }
  },
  "cells": [
    {
      "cell_type": "markdown",
      "metadata": {
        "id": "view-in-github",
        "colab_type": "text"
      },
      "source": [
        "<a href=\"https://colab.research.google.com/github/24CheskaNicomedes/11-09_Midterms/blob/main/11_09_Midterms.ipynb\" target=\"_parent\"><img src=\"https://colab.research.google.com/assets/colab-badge.svg\" alt=\"Open In Colab\"/></a>"
      ]
    },
    {
      "cell_type": "markdown",
      "source": [
        "TEST 1\n",
        "\n",
        "RECURSIVE FUNCTION\n",
        "\n",
        "f(n)"
      ],
      "metadata": {
        "id": "-aC45xLd2_Vd"
      }
    },
    {
      "cell_type": "code",
      "source": [
        "def f(n):\n",
        "\n",
        "    if n == 1:\n",
        "        return 1\n",
        "    else:\n",
        "        return (n * f(n-1))\n",
        "\n",
        "\n",
        "num = 3\n",
        "print(\"The factorial of\", num, \"is\", f(num))"
      ],
      "metadata": {
        "colab": {
          "base_uri": "https://localhost:8080/"
        },
        "id": "n5_sGmrN3AhS",
        "outputId": "e2e5d748-d078-491a-da46-fa184aa6caed"
      },
      "execution_count": 1,
      "outputs": [
        {
          "output_type": "stream",
          "name": "stdout",
          "text": [
            "The factorial of 3 is 6\n"
          ]
        }
      ]
    },
    {
      "cell_type": "markdown",
      "source": [
        " 2\n",
        "\n",
        "ITERATIVE FUNCTION"
      ],
      "metadata": {
        "id": "hHUN26W43FKG"
      }
    },
    {
      "cell_type": "code",
      "source": [
        "pets = [\"Dog\", \"Cat\", \"Rabbit\"]\n",
        "i = 0\n",
        "while (i < len(pets)):\n",
        "    print(pets[i])\n",
        "    i += 1"
      ],
      "metadata": {
        "colab": {
          "base_uri": "https://localhost:8080/"
        },
        "id": "mJkidAaO3K1T",
        "outputId": "dc267c7a-2ccb-49ca-b0aa-f91953982040"
      },
      "execution_count": 2,
      "outputs": [
        {
          "output_type": "stream",
          "name": "stdout",
          "text": [
            "Dog\n",
            "Cat\n",
            "Rabbit\n"
          ]
        }
      ]
    },
    {
      "cell_type": "markdown",
      "source": [
        "TEST 2\n",
        "\n",
        "RECURSIVE FUNCTION\n",
        "\n",
        "f(n)"
      ],
      "metadata": {
        "id": "15Wwm69B7iaU"
      }
    },
    {
      "cell_type": "code",
      "source": [
        "def f(n):\n",
        "    if n == 1: \n",
        "        return 1\n",
        "\n",
        "    else:\n",
        "        return(n * f(n-1))\n",
        "\n",
        "print(f(10))"
      ],
      "metadata": {
        "colab": {
          "base_uri": "https://localhost:8080/"
        },
        "id": "fwJXjoxc_w3e",
        "outputId": "2f1c97eb-692f-4d51-c38c-23d3202ec8fb"
      },
      "execution_count": 7,
      "outputs": [
        {
          "output_type": "stream",
          "name": "stdout",
          "text": [
            "3628800\n"
          ]
        }
      ]
    },
    {
      "cell_type": "markdown",
      "source": [
        "ITERATIVE FUNCTION\n"
      ],
      "metadata": {
        "id": "0BMcdMuIEWEI"
      }
    },
    {
      "cell_type": "code",
      "source": [
        "n = 8\n",
        "for i in range(n):\n",
        "   print(10**(3*i))\n",
        "   for i in range(n, -1, -1):\n",
        "     print(10**(3*i)) "
      ],
      "metadata": {
        "colab": {
          "base_uri": "https://localhost:8080/"
        },
        "id": "zv64Vy4wEZhs",
        "outputId": "86d883b6-a8fc-4e09-967e-2d86d1989259"
      },
      "execution_count": 8,
      "outputs": [
        {
          "output_type": "stream",
          "name": "stdout",
          "text": [
            "1\n",
            "1000000000000000000000000\n",
            "1000000000000000000000\n",
            "1000000000000000000\n",
            "1000000000000000\n",
            "1000000000000\n",
            "1000000000\n",
            "1000000\n",
            "1000\n",
            "1\n",
            "1000\n",
            "1000000000000000000000000\n",
            "1000000000000000000000\n",
            "1000000000000000000\n",
            "1000000000000000\n",
            "1000000000000\n",
            "1000000000\n",
            "1000000\n",
            "1000\n",
            "1\n",
            "1000000\n",
            "1000000000000000000000000\n",
            "1000000000000000000000\n",
            "1000000000000000000\n",
            "1000000000000000\n",
            "1000000000000\n",
            "1000000000\n",
            "1000000\n",
            "1000\n",
            "1\n",
            "1000000000\n",
            "1000000000000000000000000\n",
            "1000000000000000000000\n",
            "1000000000000000000\n",
            "1000000000000000\n",
            "1000000000000\n",
            "1000000000\n",
            "1000000\n",
            "1000\n",
            "1\n",
            "1000000000000\n",
            "1000000000000000000000000\n",
            "1000000000000000000000\n",
            "1000000000000000000\n",
            "1000000000000000\n",
            "1000000000000\n",
            "1000000000\n",
            "1000000\n",
            "1000\n",
            "1\n",
            "1000000000000000\n",
            "1000000000000000000000000\n",
            "1000000000000000000000\n",
            "1000000000000000000\n",
            "1000000000000000\n",
            "1000000000000\n",
            "1000000000\n",
            "1000000\n",
            "1000\n",
            "1\n",
            "1000000000000000000\n",
            "1000000000000000000000000\n",
            "1000000000000000000000\n",
            "1000000000000000000\n",
            "1000000000000000\n",
            "1000000000000\n",
            "1000000000\n",
            "1000000\n",
            "1000\n",
            "1\n",
            "1000000000000000000000\n",
            "1000000000000000000000000\n",
            "1000000000000000000000\n",
            "1000000000000000000\n",
            "1000000000000000\n",
            "1000000000000\n",
            "1000000000\n",
            "1000000\n",
            "1000\n",
            "1\n"
          ]
        }
      ]
    },
    {
      "cell_type": "markdown",
      "source": [
        "TEST 3\n",
        "\n",
        "GCD\n",
        "\n",
        "RECURSIVE FUNCTION\n"
      ],
      "metadata": {
        "id": "81b3ki81_xGV"
      }
    },
    {
      "cell_type": "code",
      "source": [
        "def f(a, b):\n",
        "    if(b == 0):\n",
        "        return abs(a)\n",
        "    else:\n",
        "        return f(b, a % b)\n",
        " \n",
        "a = 50\n",
        "b = 38\n",
        "print(\"The gcd of 50 and 38 is : \", end=\"\")\n",
        "print(f(50, 38))"
      ],
      "metadata": {
        "colab": {
          "base_uri": "https://localhost:8080/"
        },
        "id": "ah9ctDAu_0t9",
        "outputId": "76ff7357-31c6-43b6-90c5-627f74e52a20"
      },
      "execution_count": 3,
      "outputs": [
        {
          "output_type": "stream",
          "name": "stdout",
          "text": [
            "The gcd of 50 and 38 is : 2\n"
          ]
        }
      ]
    },
    {
      "cell_type": "markdown",
      "source": [
        "ITERATIVE FUNCTION"
      ],
      "metadata": {
        "id": "mz1pYKVNABgr"
      }
    },
    {
      "cell_type": "code",
      "source": [
        "\n",
        "import math\n",
        "\n",
        "print (math.gcd(5, 10))\n",
        "print (math.gcd(11, 22))\n",
        "print (math.gcd(12, 36))\n",
        "print (math.gcd(8, 32))\n",
        "print (math.gcd(9, 27))\n",
        "print (math.gcd(10, 0))\n",
        "print (math.gcd(0, 34))\n",
        "print (math.gcd(0, 0))"
      ],
      "metadata": {
        "colab": {
          "base_uri": "https://localhost:8080/"
        },
        "id": "9cjCqKvfAEu2",
        "outputId": "fa9ba1cb-5ad5-4a18-b47d-fd16e2dda090"
      },
      "execution_count": 5,
      "outputs": [
        {
          "output_type": "stream",
          "name": "stdout",
          "text": [
            "5\n",
            "11\n",
            "12\n",
            "8\n",
            "9\n",
            "10\n",
            "34\n",
            "0\n"
          ]
        }
      ]
    }
  ]
}